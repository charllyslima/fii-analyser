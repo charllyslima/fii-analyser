{
 "cells": [
  {
   "cell_type": "markdown",
   "metadata": {},
   "source": [
    "## Instalando dependencias"
   ]
  },
  {
   "cell_type": "code",
   "execution_count": 16,
   "metadata": {},
   "outputs": [
    {
     "name": "stdout",
     "output_type": "stream",
     "text": [
      "Note: you may need to restart the kernel to use updated packages.\n",
      "Note: you may need to restart the kernel to use updated packages.\n"
     ]
    }
   ],
   "source": [
    "%pip install -q selenium\n",
    "%pip install -q bs4"
   ]
  },
  {
   "cell_type": "markdown",
   "metadata": {},
   "source": [
    "## Importações"
   ]
  },
  {
   "cell_type": "code",
   "execution_count": 12,
   "metadata": {},
   "outputs": [],
   "source": [
    "from selenium.webdriver.common.desired_capabilities import DesiredCapabilities\n",
    "from selenium import webdriver\n",
    "from selenium.webdriver.common.keys import Keys\n",
    "from selenium.webdriver.common.by import By\n",
    "from selenium.webdriver.chrome.options import Options\n",
    "\n",
    "from bs4 import BeautifulSoup"
   ]
  },
  {
   "cell_type": "markdown",
   "metadata": {},
   "source": [
    "## Iniciando driver"
   ]
  },
  {
   "cell_type": "code",
   "execution_count": 13,
   "metadata": {},
   "outputs": [],
   "source": [
    "firefox_options = webdriver.FirefoxOptions()\n",
    "driver = webdriver.Remote(\"http://selenium:4444/wd/hub\", options=firefox_options)\n",
    "driver.set_page_load_timeout(30)"
   ]
  },
  {
   "cell_type": "code",
   "execution_count": 3,
   "metadata": {},
   "outputs": [],
   "source": [
    "fiis = [\"CPTS11\", \"MXRF11\", \"TORD11\", \"XPCI11\", \"BBRC11\", \"JPPA11\"]"
   ]
  },
  {
   "cell_type": "code",
   "execution_count": 4,
   "metadata": {},
   "outputs": [],
   "source": [
    "class FII:\n",
    "    def __init__(self, preco_atual, preco_min, preco_max):\n",
    "        self.preco_atual = preco_atual\n",
    "        self.preco_min = preco_min\n",
    "        self.preco_max = preco_max"
   ]
  },
  {
   "cell_type": "markdown",
   "metadata": {
    "tags": []
   },
   "source": [
    "## Funções de Captura"
   ]
  },
  {
   "cell_type": "code",
   "execution_count": 5,
   "metadata": {},
   "outputs": [],
   "source": [
    "def get_price(html):\n",
    "    soup = BeautifulSoup(html, 'html.parser')\n",
    "    preco = soup.find('div', {'title' : 'Valor atual do ativo'}).find('strong').text\n",
    "    return preco\n",
    "\n",
    "def get_max_price(html):\n",
    "    soup = BeautifulSoup(html, 'html.parser')\n",
    "    preco = soup.find('div', {'title' : 'Valor máximo das últimas 52 semanas'}).find('strong').text\n",
    "    return preco\n",
    "\n",
    "def get_min_price(html):\n",
    "    soup = BeautifulSoup(html, 'html.parser')\n",
    "    preco = soup.find('div', {'title' : 'Valor mínimo das últimas 52 semanas'}).find('strong').text\n",
    "    return preco"
   ]
  },
  {
   "cell_type": "markdown",
   "metadata": {},
   "source": [
    "## Capturando dados"
   ]
  },
  {
   "cell_type": "code",
   "execution_count": 14,
   "metadata": {},
   "outputs": [
    {
     "name": "stdout",
     "output_type": "stream",
     "text": [
      "Acessando : https://statusinvest.com.br/fundos-imobiliarios/CPTS11\n",
      "91,54\n",
      "101,25\n",
      "90,60\n",
      "Acessando : https://statusinvest.com.br/fundos-imobiliarios/MXRF11\n",
      "9,54\n",
      "10,30\n",
      "9,02\n",
      "Acessando : https://statusinvest.com.br/fundos-imobiliarios/TORD11\n",
      "8,80\n",
      "10,66\n",
      "8,57\n",
      "Acessando : https://statusinvest.com.br/fundos-imobiliarios/XPCI11\n",
      "93,77\n",
      "103,00\n",
      "87,93\n",
      "Acessando : https://statusinvest.com.br/fundos-imobiliarios/BBRC11\n",
      "97,17\n",
      "113,48\n",
      "86,18\n",
      "Acessando : https://statusinvest.com.br/fundos-imobiliarios/JPPA11\n",
      "102,89\n",
      "106,10\n",
      "92,94\n"
     ]
    }
   ],
   "source": [
    "for fii in fiis:\n",
    "    print(\"Acessando : \" + \"https://statusinvest.com.br/fundos-imobiliarios/\" + fii)\n",
    "    \n",
    "    try:\n",
    "        driver.get(\"https://statusinvest.com.br/fundos-imobiliarios/\" + fii)\n",
    "        html = driver.execute_script(\"return document.body.innerHTML;\")\n",
    "        preco = get_price(html)\n",
    "        max_preco = get_max_price(html)\n",
    "        min_preco = get_min_price(html)\n",
    "        f = FII(preco, max_preco, min_preco)\n",
    "    \n",
    "        print(f.preco_atual)\n",
    "        print(f.preco_min)\n",
    "        print(f.preco_max)\n",
    "\n",
    "        \n",
    "    except Exception as e:\n",
    "        print(e.message)"
   ]
  },
  {
   "cell_type": "code",
   "execution_count": 15,
   "metadata": {},
   "outputs": [],
   "source": [
    "driver.close()"
   ]
  },
  {
   "cell_type": "code",
   "execution_count": null,
   "metadata": {},
   "outputs": [],
   "source": []
  }
 ],
 "metadata": {
  "kernelspec": {
   "display_name": "Python 3 (ipykernel)",
   "language": "python",
   "name": "python3"
  },
  "language_info": {
   "codemirror_mode": {
    "name": "ipython",
    "version": 3
   },
   "file_extension": ".py",
   "mimetype": "text/x-python",
   "name": "python",
   "nbconvert_exporter": "python",
   "pygments_lexer": "ipython3",
   "version": "3.10.5"
  }
 },
 "nbformat": 4,
 "nbformat_minor": 4
}
